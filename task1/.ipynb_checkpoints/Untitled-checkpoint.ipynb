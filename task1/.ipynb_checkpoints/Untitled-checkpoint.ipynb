{
 "cells": [
  {
   "cell_type": "code",
   "execution_count": 8,
   "id": "6843bf1f-c678-439a-94c2-175804b08265",
   "metadata": {},
   "outputs": [],
   "source": [
    "import (\n",
    "\t\"bufio\"\n",
    "\t\"fmt\"\n",
    "\t\"os\"\n",
    "\t\"strconv\"\n",
    "\t\"strings\"\n",
    "    \"fmt\n",
    ")"
   ]
  },
  {
   "cell_type": "code",
   "execution_count": 9,
   "id": "12c6d013-a4e2-409d-b4f7-ca650fb5039d",
   "metadata": {},
   "outputs": [],
   "source": [
    "func ReadDataFromFile(fileName string) ([][]int, []float64, error) {\n",
    "\tfile, err := os.Open(fileName)\n",
    "\tif err != nil {\n",
    "\t\treturn nil, nil, err\n",
    "\t}\n",
    "\tdefer file.Close()\n",
    "\n",
    "\tvar intData [][]int\n",
    "\tvar floatData []float64\n",
    "\n",
    "\tscanner := bufio.NewScanner(file)\n",
    "\treadingInts := true\n",
    "\n",
    "\tfor scanner.Scan() {\n",
    "\t\tline := scanner.Text()\n",
    "\t\tif strings.Contains(line, \".\") { // Detect float data\n",
    "\t\t\treadingInts = false\n",
    "\t\t}\n",
    "\n",
    "\t\tif readingInts {\n",
    "\t\t\t// Parse integers\n",
    "\t\t\tstrValues := strings.Fields(line)\n",
    "\t\t\trow := make([]int, len(strValues))\n",
    "\t\t\tfor i, str := range strValues {\n",
    "\t\t\t\tval, err := strconv.Atoi(str)\n",
    "\t\t\t\tif err != nil {\n",
    "\t\t\t\t\treturn nil, nil, err\n",
    "\t\t\t\t}\n",
    "\t\t\t\trow[i] = val\n",
    "\t\t\t}\n",
    "\t\t\tintData = append(intData, row)\n",
    "\t\t} else {\n",
    "\t\t\t// Parse floats\n",
    "\t\t\tval, err := strconv.ParseFloat(line, 64)\n",
    "\t\t\tif err != nil {\n",
    "\t\t\t\treturn nil, nil, err\n",
    "\t\t\t}\n",
    "\t\t\tfloatData = append(floatData, val)\n",
    "\t\t}\n",
    "\t}\n",
    "\n",
    "\tif err := scanner.Err(); err != nil {\n",
    "\t\treturn nil, nil, err\n",
    "\t}\n",
    "\n",
    "\treturn intData, floatData, nil\n",
    "}"
   ]
  },
  {
   "cell_type": "code",
   "execution_count": 12,
   "id": "0a943cce-93b7-4b99-828a-b544e888d4cf",
   "metadata": {},
   "outputs": [],
   "source": [
    "const (\n",
    "\tresultsFile = \"data.txt\"\n",
    ")"
   ]
  },
  {
   "cell_type": "code",
   "execution_count": 13,
   "id": "0288c3cc-14a8-419e-8095-03db04439dcd",
   "metadata": {},
   "outputs": [
    {
     "ename": "ERROR",
     "evalue": "repl.go:4:1: return outside function",
     "output_type": "error",
     "traceback": [
      "repl.go:4:1: return outside function"
     ]
    }
   ],
   "source": [
    "post, val, err := ReadDataFromFile(resultsFile)\n",
    "if err != nil {\n",
    "fmt.Println(\"Error reading from file:\", err)\n",
    "}\n",
    "\n",
    "log.Println(len(post), len(val))"
   ]
  },
  {
   "cell_type": "code",
   "execution_count": null,
   "id": "9f649be4-5e05-423c-9bad-02009dd6b13c",
   "metadata": {},
   "outputs": [],
   "source": []
  }
 ],
 "metadata": {
  "kernelspec": {
   "display_name": "Go",
   "language": "go",
   "name": "gophernotes"
  },
  "language_info": {
   "codemirror_mode": "",
   "file_extension": ".go",
   "mimetype": "",
   "name": "go",
   "nbconvert_exporter": "",
   "pygments_lexer": "",
   "version": "go1.22.4"
  }
 },
 "nbformat": 4,
 "nbformat_minor": 5
}
